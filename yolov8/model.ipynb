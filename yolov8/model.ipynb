{
 "cells": [
  {
   "cell_type": "markdown",
   "id": "4d54ede8",
   "metadata": {},
   "source": [
    "### Train 1\n",
    "- Default Architecture\n",
    "- Pretrained YOLOv8\n",
    "- 5 epochs\n",
    "\n",
    "### Train 2\n",
    "- Default Architecture\n",
    "- No pretrained weights YOLOv8\n",
    "- 5 epochs\n",
    "\n",
    "### Train 3\n",
    "- Custom Architecture\n",
    "- No pretrained weights YOLOv8\n",
    "- 5 epochs"
   ]
  },
  {
   "cell_type": "code",
   "execution_count": 1,
   "id": "6c792211",
   "metadata": {},
   "outputs": [],
   "source": [
    "# import YOLO model\n",
    "from ultralytics import YOLO"
   ]
  },
  {
   "cell_type": "code",
   "execution_count": 2,
   "id": "bbda09a3",
   "metadata": {},
   "outputs": [
    {
     "name": "stdout",
     "output_type": "stream",
     "text": [
      "YOLOv8m-cls summary: 94 layers, 15,813,979 parameters, 15,813,979 gradients, 19.0 GFLOPs\n"
     ]
    }
   ],
   "source": [
    "# Load a model\n",
    "model = YOLO('yolov8m-cls.yaml') # load a pretrained model (recommended for training)"
   ]
  },
  {
   "cell_type": "code",
   "execution_count": 3,
   "id": "71e394d0",
   "metadata": {},
   "outputs": [
    {
     "name": "stdout",
     "output_type": "stream",
     "text": [
      "New https://pypi.org/project/ultralytics/8.3.169 available  Update with 'pip install -U ultralytics'\n",
      "Ultralytics 8.3.168  Python-3.12.5 torch-2.7.1+cpu CPU (12th Gen Intel Core(TM) i7-12650H)\n",
      "\u001b[34m\u001b[1mengine\\trainer: \u001b[0magnostic_nms=False, amp=True, augment=False, auto_augment=randaugment, batch=16, bgr=0.0, box=7.5, cache=False, cfg=None, classes=None, close_mosaic=10, cls=0.5, conf=None, copy_paste=0.0, copy_paste_mode=flip, cos_lr=False, cutmix=0.0, data=../datasets, degrees=0.0, deterministic=True, device=cpu, dfl=1.5, dnn=False, dropout=0.0, dynamic=False, embed=None, epochs=5, erasing=0.4, exist_ok=False, fliplr=0.5, flipud=0.0, format=torchscript, fraction=1.0, freeze=None, half=False, hsv_h=0.015, hsv_s=0.7, hsv_v=0.4, imgsz=224, int8=False, iou=0.7, keras=False, kobj=1.0, line_width=None, lr0=0.01, lrf=0.01, mask_ratio=4, max_det=300, mixup=0.0, mode=train, model=yolov8m-cls.yaml, momentum=0.937, mosaic=1.0, multi_scale=False, name=train4, nbs=64, nms=False, opset=None, optimize=False, optimizer=auto, overlap_mask=True, patience=100, perspective=0.0, plots=True, pose=12.0, pretrained=True, profile=False, project=None, rect=False, resume=False, retina_masks=False, save=True, save_conf=False, save_crop=False, save_dir=runs\\classify\\train4, save_frames=False, save_json=False, save_period=-1, save_txt=False, scale=0.5, seed=0, shear=0.0, show=False, show_boxes=True, show_conf=True, show_labels=True, simplify=True, single_cls=False, source=None, split=val, stream_buffer=False, task=classify, time=None, tracker=botsort.yaml, translate=0.1, val=True, verbose=True, vid_stride=1, visualize=False, warmup_bias_lr=0.1, warmup_epochs=3.0, warmup_momentum=0.8, weight_decay=0.0005, workers=8, workspace=None\n",
      "\u001b[34m\u001b[1mtrain:\u001b[0m C:\\Personal_Git_Repo\\MLAI\\datasets\\train... found 7004 images in 3 classes  \n",
      "\u001b[34m\u001b[1mval:\u001b[0m None...\n",
      "\u001b[34m\u001b[1mtest:\u001b[0m C:\\Personal_Git_Repo\\MLAI\\datasets\\test... found 860 images in 3 classes  \n",
      "\n",
      "                   from  n    params  module                                       arguments                     \n",
      "  0                  -1  1       696  ultralytics.nn.modules.conv.Conv             [3, 24, 3, 2]                 \n",
      "  1                  -1  1     10464  ultralytics.nn.modules.conv.Conv             [24, 48, 3, 2]                \n",
      "  2                  -1  2     28032  ultralytics.nn.modules.block.C2f             [48, 48, 2, True]             \n",
      "  3                  -1  1     41664  ultralytics.nn.modules.conv.Conv             [48, 96, 3, 2]                \n",
      "  4                  -1  2    111360  ultralytics.nn.modules.block.C2f             [96, 96, 2, True]             \n",
      "  5                  -1  1    166272  ultralytics.nn.modules.conv.Conv             [96, 192, 3, 2]               \n",
      "  6                  -1  4    813312  ultralytics.nn.modules.block.C2f             [192, 192, 4, True]           \n",
      "  7                  -1  1    664320  ultralytics.nn.modules.conv.Conv             [192, 384, 3, 2]              \n",
      "  8                  -1  4   3248640  ultralytics.nn.modules.block.C2f             [384, 384, 4, True]           \n",
      "  9                  -1  1   2655744  ultralytics.nn.modules.conv.Conv             [384, 768, 3, 2]              \n",
      " 10                  -1  2   7084032  ultralytics.nn.modules.block.C2f             [768, 768, 2, True]           \n",
      " 11                  -1  1    989443  ultralytics.nn.modules.head.Classify         [768, 3]                      \n",
      "YOLOv8m-cls summary: 94 layers, 15,813,979 parameters, 15,813,979 gradients, 19.0 GFLOPs\n",
      "\u001b[34m\u001b[1mtrain: \u001b[0mFast image access  (ping: 0.50.3 ms, read: 3.12.1 MB/s, size: 41.5 KB)\n"
     ]
    },
    {
     "name": "stderr",
     "output_type": "stream",
     "text": [
      "\u001b[34m\u001b[1mtrain: \u001b[0mScanning C:\\Personal_Git_Repo\\MLAI\\datasets\\train... 7004 images, 0 corrupt: 100%|██████████| 7004/7004 [00:05<00:00, 1189.47it/s]\n"
     ]
    },
    {
     "name": "stdout",
     "output_type": "stream",
     "text": [
      "\u001b[34m\u001b[1mtrain: \u001b[0mNew cache created: C:\\Personal_Git_Repo\\MLAI\\datasets\\train.cache\n",
      "\u001b[34m\u001b[1mval: \u001b[0mFast image access  (ping: 0.70.4 ms, read: 2.72.2 MB/s, size: 44.3 KB)\n"
     ]
    },
    {
     "name": "stderr",
     "output_type": "stream",
     "text": [
      "C:\\Users\\dionc\\AppData\\Roaming\\Python\\Python312\\site-packages\\torch\\utils\\data\\dataloader.py:665: UserWarning: 'pin_memory' argument is set as true but no accelerator is found, then device pinned memory won't be used.\n",
      "  warnings.warn(warn_msg)\n",
      "\u001b[34m\u001b[1mval: \u001b[0mScanning C:\\Personal_Git_Repo\\MLAI\\datasets\\test... 860 images, 0 corrupt: 100%|██████████| 860/860 [00:00<00:00, 942.24it/s] \n"
     ]
    },
    {
     "name": "stdout",
     "output_type": "stream",
     "text": [
      "\u001b[34m\u001b[1mval: \u001b[0mNew cache created: C:\\Personal_Git_Repo\\MLAI\\datasets\\test.cache\n"
     ]
    },
    {
     "name": "stderr",
     "output_type": "stream",
     "text": [
      "C:\\Users\\dionc\\AppData\\Roaming\\Python\\Python312\\site-packages\\torch\\utils\\data\\dataloader.py:665: UserWarning: 'pin_memory' argument is set as true but no accelerator is found, then device pinned memory won't be used.\n",
      "  warnings.warn(warn_msg)\n"
     ]
    },
    {
     "name": "stdout",
     "output_type": "stream",
     "text": [
      "\u001b[34m\u001b[1moptimizer:\u001b[0m 'optimizer=auto' found, ignoring 'lr0=0.01' and 'momentum=0.937' and determining best 'optimizer', 'lr0' and 'momentum' automatically... \n",
      "\u001b[34m\u001b[1moptimizer:\u001b[0m AdamW(lr=0.001429, momentum=0.9) with parameter groups 45 weight(decay=0.0), 46 weight(decay=0.0005), 46 bias(decay=0.0)\n",
      "Image sizes 224 train, 224 val\n",
      "Using 0 dataloader workers\n",
      "Logging results to \u001b[1mruns\\classify\\train4\u001b[0m\n",
      "Starting training for 5 epochs...\n",
      "\n",
      "      Epoch    GPU_mem       loss  Instances       Size\n"
     ]
    },
    {
     "name": "stderr",
     "output_type": "stream",
     "text": [
      "        1/5         0G     0.9226         12        224: 100%|██████████| 438/438 [22:17<00:00,  3.05s/it]\n",
      "               classes   top1_acc   top5_acc: 100%|██████████| 27/27 [02:16<00:00,  5.07s/it]"
     ]
    },
    {
     "name": "stdout",
     "output_type": "stream",
     "text": [
      "                   all      0.784          1\n"
     ]
    },
    {
     "name": "stderr",
     "output_type": "stream",
     "text": [
      "\n"
     ]
    },
    {
     "name": "stdout",
     "output_type": "stream",
     "text": [
      "\n",
      "      Epoch    GPU_mem       loss  Instances       Size\n"
     ]
    },
    {
     "name": "stderr",
     "output_type": "stream",
     "text": [
      "        2/5         0G     0.6455         12        224: 100%|██████████| 438/438 [22:47<00:00,  3.12s/it]\n",
      "               classes   top1_acc   top5_acc: 100%|██████████| 27/27 [02:22<00:00,  5.26s/it]"
     ]
    },
    {
     "name": "stdout",
     "output_type": "stream",
     "text": [
      "                   all      0.688          1\n"
     ]
    },
    {
     "name": "stderr",
     "output_type": "stream",
     "text": [
      "\n"
     ]
    },
    {
     "name": "stdout",
     "output_type": "stream",
     "text": [
      "\n",
      "      Epoch    GPU_mem       loss  Instances       Size\n"
     ]
    },
    {
     "name": "stderr",
     "output_type": "stream",
     "text": [
      "        3/5         0G     0.5504         12        224: 100%|██████████| 438/438 [23:24<00:00,  3.21s/it]\n",
      "               classes   top1_acc   top5_acc: 100%|██████████| 27/27 [02:20<00:00,  5.19s/it]"
     ]
    },
    {
     "name": "stdout",
     "output_type": "stream",
     "text": [
      "                   all      0.858          1\n"
     ]
    },
    {
     "name": "stderr",
     "output_type": "stream",
     "text": [
      "\n"
     ]
    },
    {
     "name": "stdout",
     "output_type": "stream",
     "text": [
      "\n",
      "      Epoch    GPU_mem       loss  Instances       Size\n"
     ]
    },
    {
     "name": "stderr",
     "output_type": "stream",
     "text": [
      "        4/5         0G     0.4445         12        224: 100%|██████████| 438/438 [23:42<00:00,  3.25s/it]\n",
      "               classes   top1_acc   top5_acc: 100%|██████████| 27/27 [02:16<00:00,  5.07s/it]"
     ]
    },
    {
     "name": "stdout",
     "output_type": "stream",
     "text": [
      "                   all      0.906          1\n"
     ]
    },
    {
     "name": "stderr",
     "output_type": "stream",
     "text": [
      "\n"
     ]
    },
    {
     "name": "stdout",
     "output_type": "stream",
     "text": [
      "\n",
      "      Epoch    GPU_mem       loss  Instances       Size\n"
     ]
    },
    {
     "name": "stderr",
     "output_type": "stream",
     "text": [
      "        5/5         0G     0.3493         12        224: 100%|██████████| 438/438 [23:30<00:00,  3.22s/it]\n",
      "               classes   top1_acc   top5_acc: 100%|██████████| 27/27 [02:22<00:00,  5.27s/it]"
     ]
    },
    {
     "name": "stdout",
     "output_type": "stream",
     "text": [
      "                   all      0.951          1\n"
     ]
    },
    {
     "name": "stderr",
     "output_type": "stream",
     "text": [
      "\n"
     ]
    },
    {
     "name": "stdout",
     "output_type": "stream",
     "text": [
      "\n",
      "5 epochs completed in 2.125 hours.\n",
      "Optimizer stripped from runs\\classify\\train4\\weights\\last.pt, 31.8MB\n",
      "Optimizer stripped from runs\\classify\\train4\\weights\\best.pt, 31.8MB\n",
      "\n",
      "Validating runs\\classify\\train4\\weights\\best.pt...\n",
      "Ultralytics 8.3.168  Python-3.12.5 torch-2.7.1+cpu CPU (12th Gen Intel Core(TM) i7-12650H)\n",
      "YOLOv8m-cls summary (fused): 49 layers, 15,804,083 parameters, 0 gradients, 18.9 GFLOPs\n",
      "WARNING Dataset 'split=val' not found, using 'split=test' instead.\n",
      "\u001b[34m\u001b[1mtrain:\u001b[0m C:\\Personal_Git_Repo\\MLAI\\datasets\\train... found 7004 images in 3 classes  \n",
      "\u001b[34m\u001b[1mval:\u001b[0m C:\\Personal_Git_Repo\\MLAI\\datasets\\test... found 860 images in 3 classes  \n",
      "\u001b[34m\u001b[1mtest:\u001b[0m C:\\Personal_Git_Repo\\MLAI\\datasets\\test... found 860 images in 3 classes  \n"
     ]
    },
    {
     "name": "stderr",
     "output_type": "stream",
     "text": [
      "               classes   top1_acc   top5_acc: 100%|██████████| 27/27 [02:19<00:00,  5.16s/it]\n"
     ]
    },
    {
     "name": "stdout",
     "output_type": "stream",
     "text": [
      "                   all      0.951          1\n",
      "Speed: 0.0ms preprocess, 12.2ms inference, 0.0ms loss, 0.0ms postprocess per image\n",
      "Results saved to \u001b[1mruns\\classify\\train4\u001b[0m\n"
     ]
    },
    {
     "data": {
      "text/plain": [
       "ultralytics.utils.metrics.ClassifyMetrics object with attributes:\n",
       "\n",
       "confusion_matrix: <ultralytics.utils.metrics.ConfusionMatrix object at 0x0000024EBE7FDD30>\n",
       "curves: []\n",
       "curves_results: []\n",
       "fitness: 0.9755814075469971\n",
       "keys: ['metrics/accuracy_top1', 'metrics/accuracy_top5']\n",
       "results_dict: {'metrics/accuracy_top1': 0.9511628150939941, 'metrics/accuracy_top5': 1.0, 'fitness': 0.9755814075469971}\n",
       "save_dir: WindowsPath('runs/classify/train4')\n",
       "speed: {'preprocess': 0.0007155814633141596, 'inference': 12.219161279079893, 'loss': 4.5348877942752704e-05, 'postprocess': 0.00014604654076487517}\n",
       "task: 'classify'\n",
       "top1: 0.9511628150939941\n",
       "top5: 1.0"
      ]
     },
     "execution_count": 3,
     "metadata": {},
     "output_type": "execute_result"
    }
   ],
   "source": [
    "\n",
    "# Train the model\n",
    "model.train(data='../datasets', epochs=5)"
   ]
  }
 ],
 "metadata": {
  "kernelspec": {
   "display_name": "yolo",
   "language": "python",
   "name": "python3"
  },
  "language_info": {
   "codemirror_mode": {
    "name": "ipython",
    "version": 3
   },
   "file_extension": ".py",
   "mimetype": "text/x-python",
   "name": "python",
   "nbconvert_exporter": "python",
   "pygments_lexer": "ipython3",
   "version": "3.12.5"
  }
 },
 "nbformat": 4,
 "nbformat_minor": 5
}
